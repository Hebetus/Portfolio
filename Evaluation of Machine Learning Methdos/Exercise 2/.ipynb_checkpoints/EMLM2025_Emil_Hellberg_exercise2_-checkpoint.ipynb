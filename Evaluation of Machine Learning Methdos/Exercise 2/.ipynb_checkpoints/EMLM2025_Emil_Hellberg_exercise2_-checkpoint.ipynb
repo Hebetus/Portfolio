{
 "cells": [
  {
   "cell_type": "markdown",
   "metadata": {},
   "source": [
    "# Exercise 2 | TKO_7092 Evaluation of Machine Learning Methods 2025\n",
    "## deadline: 12.2.2025 - 23:59\n",
    "\n",
    "Regarding any questions about this exercise, please contact course assistant Jonne Pohjankukka (jjepoh@utu.fi)\n",
    "\n",
    "********************************************\n",
    "\n",
    "Student name: Emil Hellberg\n",
    "\n",
    "Student number: 1901299\n",
    "\n",
    "Student email: ephell@utu.fi\n",
    "\n",
    "********************************************"
   ]
  },
  {
   "cell_type": "markdown",
   "metadata": {},
   "source": [
    "## Water permeability prediction in forestry <br>\n",
    "\n",
    "In this task, the client wants you to estimate the spatial prediction performance of K-nearest neighbor regression model with K=7 (7NN), using spatial leave-one-out cross-validation (i.e. SKCV, with number of folds == number of data points). The client wants you to use the C-index as the performance measure.  \n",
    "\n",
    "In other words, the client wants you to answer the question: \"What happens to the prediction performance of water permeability using 7-nearest neighbor regression model, when the geographical distance between known data and unknown data increases?\".\n",
    "\n",
    "In this task, you have three data files available (with 1691 data points): \n",
    "\n",
    "- input.csv, contains the 75 predictor features. \n",
    "- output.csv, contains the water permebility values. \n",
    "- coordinates.csv, contains the corresponding geographical coordinate locations of the data points. The unit of the coordinates is metre, and you can use Euclidean distance to calculate distances between the coordinate points. \n",
    "\n",
    "Implement the following tasks to complete this exercise:\n",
    "\n",
    "********************************************\n",
    "\n",
    "#### 1. Z-score standardize the predictor features (input.csv). \n",
    "\n",
    "#### 2. Perform spatial leave-one-out cross-validation with 7NN model for the provided data set (refer to the lectures 3.1.3 and 3.1.4 in 'Evaluating spatial models with spatial cross-validation' for help). Estimate the water permeability prediction performance (using 7NN model and C-index) with the following distance parameter values: d = 0, 20, 40, ..., 300 (that is, 20 meter intervals from 0m to 300m). \n",
    "\n",
    "#### 3. When you have calculated the C-index performance measure for each value of d, visualize the results with the C-index (y-axis) as a function of d (x-axis).\n",
    "\n",
    "********************************************\n",
    "\n",
    "Your .ipynb-file must include the following: \n",
    "\n",
    "- Your own implementation of the spatial leave-one-out cross-validation for the current task. You can use third-party libraries (e.g. Scikit-learn) if you want for implementing e.g. the 7-nearest neighbor. Also, try to follow good programming practices and add comments to relevant parts of your code explaining what you are doing and why.\n",
    "\n",
    "\n",
    "- Plot of the graph C-index vs. distance parameter value. \n",
    "\n",
    "\n",
    "<br><br><br>\n",
    "-- START IMPLEMENTING YOUR EXERCISE AFTER THIS LINE --\n",
    "<br><br><br>"
   ]
  },
  {
   "cell_type": "markdown",
   "metadata": {},
   "source": [
    "### Import necessary libraries"
   ]
  },
  {
   "cell_type": "code",
   "execution_count": 1,
   "metadata": {},
   "outputs": [],
   "source": [
    "# In this cell, import all the libraries that you need. For example: \n",
    "import numpy as np\n",
    "import pandas as pd\n",
    "from sklearn.neighbors import KNeighborsRegressor\n",
    "from sklearn.preprocessing import StandardScaler\n",
    "import matplotlib.pyplot as plt"
   ]
  },
  {
   "cell_type": "markdown",
   "metadata": {},
   "source": [
    "### Read in the datasets"
   ]
  },
  {
   "cell_type": "code",
   "execution_count": 2,
   "metadata": {},
   "outputs": [
    {
     "name": "stdout",
     "output_type": "stream",
     "text": [
      "x: (1690, 75)\n",
      "y: (1690, 1)\n",
      "coordinates (1690, 2)\n"
     ]
    }
   ],
   "source": [
    "# In this cell, read the files input.csv, output.csv and coordinates.csv.\n",
    "# Print out the dataset dimesions (i.e. number of rows and columns).\n",
    "\n",
    "x = pd.read_csv('./input.csv')\n",
    "y = pd.read_csv('./output.csv')\n",
    "coordinates = pd.read_csv('./coordinates.csv')\n",
    "\n",
    "print('x:', x.shape)\n",
    "print('y:', y.shape)\n",
    "print('coordinates', coordinates.shape)"
   ]
  },
  {
   "cell_type": "markdown",
   "metadata": {},
   "source": [
    "### Standardization of the predictor features (input.csv)"
   ]
  },
  {
   "cell_type": "code",
   "execution_count": 3,
   "metadata": {},
   "outputs": [],
   "source": [
    "# Standardize the predictor features (input.csv) by removing the mean and scaling to unit variance. \n",
    "# In other words, z-score the predictor features. You are allowed to use third-party libraries for doing this.\n",
    "\n",
    "scaler = StandardScaler()\n",
    "standardized_x = scaler.fit_transform(x)"
   ]
  },
  {
   "cell_type": "markdown",
   "metadata": {},
   "source": [
    "### Functions and analysis code"
   ]
  },
  {
   "cell_type": "code",
   "execution_count": 4,
   "metadata": {},
   "outputs": [],
   "source": [
    "# Include here all the functions and other relevant code that you need in order to implement the task.\n",
    "\n",
    "# Note! Utilize the following two functions in your implementation:\n",
    "\n",
    "### Function for calculating C-index ###\n",
    "# y: array containing true label values.\n",
    "# yp: array containing the predicted label values.\n",
    "def cindex(y, yp):\n",
    "    n = 0\n",
    "    h_num = 0 \n",
    "    for i in range(0, len(y)):\n",
    "        t = y[i]\n",
    "        p = yp[i]\n",
    "        for j in range(i+1, len(y)):\n",
    "            nt = y[j]\n",
    "            np = yp[j]\n",
    "            if (t != nt): \n",
    "                n = n + 1\n",
    "                if (p < np and t < nt) or (p > np and t > nt): \n",
    "                    h_num += 1\n",
    "                elif (p == np):\n",
    "                    h_num += 0.5\n",
    "    return h_num/n\n",
    "\n",
    "\n",
    "### Function for calculating the pairwise spatial distances between the data points ###\n",
    "# The function will return a n-by-n matrix of Euclidean distances. For example, the\n",
    "# distance_matrix element at indices i,j will contain the spatial distance between \n",
    "# data point i and j. Note that the element value is 0 always when i==j.\n",
    "# coordinate_array: n-by-2 array containing the coordinates of the exercise data points.\n",
    "def cdists(coordinate_array):\n",
    "    number_of_observations = coordinate_array.shape[0]\n",
    "    distance_matrix = np.zeros((number_of_observations, number_of_observations))\n",
    "    for i in range(0, number_of_observations):\n",
    "        distance_matrix[i, :] = np.sqrt(np.sum((coordinate_array - coordinate_array[i])**2, axis=1))\n",
    "    return distance_matrix"
   ]
  },
  {
   "cell_type": "markdown",
   "metadata": {},
   "source": [
    "### Results for spatial leave-one-out cross-validation with 7-nearest neighbor regression model"
   ]
  },
  {
   "cell_type": "code",
   "execution_count": 5,
   "metadata": {},
   "outputs": [
    {
     "name": "stdout",
     "output_type": "stream",
     "text": [
      "0.7667673696957465\n",
      "   d   c-index\n",
      "0  0  0.766767\n"
     ]
    },
    {
     "name": "stderr",
     "output_type": "stream",
     "text": [
      "C:\\Users\\emilh\\AppData\\Local\\Temp\\ipykernel_10344\\330749203.py:53: FutureWarning: The behavior of DataFrame concatenation with empty or all-NA entries is deprecated. In a future version, this will no longer exclude empty or all-NA columns when determining the result dtypes. To retain the old behavior, exclude the relevant entries before the concat operation.\n",
      "  results = pd.concat([results, new_row], ignore_index = True)\n"
     ]
    },
    {
     "name": "stdout",
     "output_type": "stream",
     "text": [
      "0.7074146021494525\n",
      "    d   c-index\n",
      "0   0  0.766767\n",
      "1  20  0.707415\n",
      "0.7030574616950065\n",
      "    d   c-index\n",
      "0   0  0.766767\n",
      "1  20  0.707415\n",
      "2  40  0.703057\n",
      "0.69518657741449\n",
      "    d   c-index\n",
      "0   0  0.766767\n",
      "1  20  0.707415\n",
      "2  40  0.703057\n",
      "3  60  0.695187\n",
      "0.686781693773091\n",
      "    d   c-index\n",
      "0   0  0.766767\n",
      "1  20  0.707415\n",
      "2  40  0.703057\n",
      "3  60  0.695187\n",
      "4  80  0.686782\n",
      "0.6819616837938902\n",
      "     d   c-index\n",
      "0    0  0.766767\n",
      "1   20  0.707415\n",
      "2   40  0.703057\n",
      "3   60  0.695187\n",
      "4   80  0.686782\n",
      "5  100  0.681962\n",
      "0.6155008381407292\n",
      "     d   c-index\n",
      "0    0  0.766767\n",
      "1   20  0.707415\n",
      "2   40  0.703057\n",
      "3   60  0.695187\n",
      "4   80  0.686782\n",
      "5  100  0.681962\n",
      "6  120  0.615501\n",
      "0.5994945226522248\n",
      "     d   c-index\n",
      "0    0  0.766767\n",
      "1   20  0.707415\n",
      "2   40  0.703057\n",
      "3   60  0.695187\n",
      "4   80  0.686782\n",
      "5  100  0.681962\n",
      "6  120  0.615501\n",
      "7  140  0.599495\n",
      "0.5949225911162689\n",
      "     d   c-index\n",
      "0    0  0.766767\n",
      "1   20  0.707415\n",
      "2   40  0.703057\n",
      "3   60  0.695187\n",
      "4   80  0.686782\n",
      "5  100  0.681962\n",
      "6  120  0.615501\n",
      "7  140  0.599495\n",
      "8  160  0.594923\n",
      "0.5931531050451027\n",
      "     d   c-index\n",
      "0    0  0.766767\n",
      "1   20  0.707415\n",
      "2   40  0.703057\n",
      "3   60  0.695187\n",
      "4   80  0.686782\n",
      "5  100  0.681962\n",
      "6  120  0.615501\n",
      "7  140  0.599495\n",
      "8  160  0.594923\n",
      "9  180  0.593153\n",
      "0.5896807076262397\n",
      "      d   c-index\n",
      "0     0  0.766767\n",
      "1    20  0.707415\n",
      "2    40  0.703057\n",
      "3    60  0.695187\n",
      "4    80  0.686782\n",
      "5   100  0.681962\n",
      "6   120  0.615501\n",
      "7   140  0.599495\n",
      "8   160  0.594923\n",
      "9   180  0.593153\n",
      "10  200  0.589681\n",
      "0.5863551249922914\n",
      "      d   c-index\n",
      "0     0  0.766767\n",
      "1    20  0.707415\n",
      "2    40  0.703057\n",
      "3    60  0.695187\n",
      "4    80  0.686782\n",
      "5   100  0.681962\n",
      "6   120  0.615501\n",
      "7   140  0.599495\n",
      "8   160  0.594923\n",
      "9   180  0.593153\n",
      "10  200  0.589681\n",
      "11  220  0.586355\n",
      "0.5840873796749472\n",
      "      d   c-index\n",
      "0     0  0.766767\n",
      "1    20  0.707415\n",
      "2    40  0.703057\n",
      "3    60  0.695187\n",
      "4    80  0.686782\n",
      "5   100  0.681962\n",
      "6   120  0.615501\n",
      "7   140  0.599495\n",
      "8   160  0.594923\n",
      "9   180  0.593153\n",
      "10  200  0.589681\n",
      "11  220  0.586355\n",
      "12  240  0.584087\n",
      "0.584436721776522\n",
      "      d   c-index\n",
      "0     0  0.766767\n",
      "1    20  0.707415\n",
      "2    40  0.703057\n",
      "3    60  0.695187\n",
      "4    80  0.686782\n",
      "5   100  0.681962\n",
      "6   120  0.615501\n",
      "7   140  0.599495\n",
      "8   160  0.594923\n",
      "9   180  0.593153\n",
      "10  200  0.589681\n",
      "11  220  0.586355\n",
      "12  240  0.584087\n",
      "13  260  0.584437\n",
      "0.5847738001132471\n",
      "      d   c-index\n",
      "0     0  0.766767\n",
      "1    20  0.707415\n",
      "2    40  0.703057\n",
      "3    60  0.695187\n",
      "4    80  0.686782\n",
      "5   100  0.681962\n",
      "6   120  0.615501\n",
      "7   140  0.599495\n",
      "8   160  0.594923\n",
      "9   180  0.593153\n",
      "10  200  0.589681\n",
      "11  220  0.586355\n",
      "12  240  0.584087\n",
      "13  260  0.584437\n",
      "14  280  0.584774\n",
      "0.5840246592775732\n",
      "      d   c-index\n",
      "0     0  0.766767\n",
      "1    20  0.707415\n",
      "2    40  0.703057\n",
      "3    60  0.695187\n",
      "4    80  0.686782\n",
      "5   100  0.681962\n",
      "6   120  0.615501\n",
      "7   140  0.599495\n",
      "8   160  0.594923\n",
      "9   180  0.593153\n",
      "10  200  0.589681\n",
      "11  220  0.586355\n",
      "12  240  0.584087\n",
      "13  260  0.584437\n",
      "14  280  0.584774\n",
      "15  300  0.584025\n"
     ]
    }
   ],
   "source": [
    "# In this cell, run your script for the Spatial leave-One-Out cross-validation \n",
    "# with 7-nearest neighbor regression model and visualize the results as \n",
    "# requested in the task assignment.\n",
    "\n",
    "distances = cdists(coordinates.to_numpy())\n",
    "\n",
    "standardized_x = pd.DataFrame(standardized_x)\n",
    "results = pd.DataFrame(columns = ['d', 'c-index'])\n",
    "\n",
    "for d in range(0, 16):\n",
    "    d = d * 20\n",
    "    c_index = 0\n",
    "    y_true = []\n",
    "    y_pred = []\n",
    "\n",
    "    for n in range(0, len(standardized_x)):\n",
    "        n_coordinates = coordinates.iloc[n]\n",
    "        n_x = n_coordinates.iloc[0]\n",
    "        n_y = n_coordinates.iloc[1]\n",
    "        x_test = standardized_x.iloc[n]\n",
    "        x_train = standardized_x\n",
    "        y_train = y\n",
    "\n",
    "        y_test = y.iloc[[n]]\n",
    "\n",
    "        for i in range(0, len(standardized_x)):\n",
    "            x_coordinates = coordinates.iloc[i]\n",
    "            x_x = x_coordinates.iloc[0]\n",
    "            x_y = x_coordinates.iloc[1]\n",
    "\n",
    "            if distances[n, i] < d:\n",
    "                x_train = x_train.drop(i)\n",
    "                y_train = y_train.drop(i)\n",
    "                \n",
    "        y_train = y_train.to_numpy()\n",
    "        \n",
    "        x_train = x_train.to_numpy()\n",
    "        \n",
    "        model = KNeighborsRegressor(n_neighbors = 7)\n",
    "        model.fit(x_train, y_train)\n",
    "\n",
    "        x_test = x_test.to_numpy()\n",
    "        x_test = x_test.reshape(1, -1)\n",
    "        y_test = y_test.to_numpy()\n",
    "        y_test = y_test[0][0]\n",
    "        prediction = model.predict(x_test)[0][0]\n",
    "        y_true.append(y_test)\n",
    "        y_pred.append(prediction)\n",
    "\n",
    "    c_index = cindex(y_true, y_pred)\n",
    "    print(c_index)\n",
    "    new_row = pd.DataFrame({'d': [d], 'c-index': [c_index]})\n",
    "    results = pd.concat([results, new_row], ignore_index = True)\n",
    "    print(results)"
   ]
  },
  {
   "cell_type": "code",
   "execution_count": 8,
   "metadata": {},
   "outputs": [
    {
     "ename": "KeyError",
     "evalue": "'c-index'",
     "output_type": "error",
     "traceback": [
      "\u001b[1;31m---------------------------------------------------------------------------\u001b[0m",
      "\u001b[1;31mKeyError\u001b[0m                                  Traceback (most recent call last)",
      "File \u001b[1;32m~\\AppData\\Local\\Packages\\PythonSoftwareFoundation.Python.3.12_qbz5n2kfra8p0\\LocalCache\\local-packages\\Python312\\site-packages\\pandas\\core\\indexes\\base.py:3805\u001b[0m, in \u001b[0;36mIndex.get_loc\u001b[1;34m(self, key)\u001b[0m\n\u001b[0;32m   3804\u001b[0m \u001b[38;5;28;01mtry\u001b[39;00m:\n\u001b[1;32m-> 3805\u001b[0m     \u001b[38;5;28;01mreturn\u001b[39;00m \u001b[38;5;28;43mself\u001b[39;49m\u001b[38;5;241;43m.\u001b[39;49m\u001b[43m_engine\u001b[49m\u001b[38;5;241;43m.\u001b[39;49m\u001b[43mget_loc\u001b[49m\u001b[43m(\u001b[49m\u001b[43mcasted_key\u001b[49m\u001b[43m)\u001b[49m\n\u001b[0;32m   3806\u001b[0m \u001b[38;5;28;01mexcept\u001b[39;00m \u001b[38;5;167;01mKeyError\u001b[39;00m \u001b[38;5;28;01mas\u001b[39;00m err:\n",
      "File \u001b[1;32mindex.pyx:167\u001b[0m, in \u001b[0;36mpandas._libs.index.IndexEngine.get_loc\u001b[1;34m()\u001b[0m\n",
      "File \u001b[1;32mindex.pyx:196\u001b[0m, in \u001b[0;36mpandas._libs.index.IndexEngine.get_loc\u001b[1;34m()\u001b[0m\n",
      "File \u001b[1;32mpandas\\\\_libs\\\\hashtable_class_helper.pxi:7081\u001b[0m, in \u001b[0;36mpandas._libs.hashtable.PyObjectHashTable.get_item\u001b[1;34m()\u001b[0m\n",
      "File \u001b[1;32mpandas\\\\_libs\\\\hashtable_class_helper.pxi:7089\u001b[0m, in \u001b[0;36mpandas._libs.hashtable.PyObjectHashTable.get_item\u001b[1;34m()\u001b[0m\n",
      "\u001b[1;31mKeyError\u001b[0m: 'c-index'",
      "\nThe above exception was the direct cause of the following exception:\n",
      "\u001b[1;31mKeyError\u001b[0m                                  Traceback (most recent call last)",
      "Cell \u001b[1;32mIn[8], line 6\u001b[0m\n\u001b[0;32m      2\u001b[0m c_index \u001b[38;5;241m=\u001b[39m [\u001b[38;5;241m0.766767\u001b[39m, \u001b[38;5;241m0.707415\u001b[39m, \u001b[38;5;241m0.703057\u001b[39m, \u001b[38;5;241m0.695187\u001b[39m, \u001b[38;5;241m0.686782\u001b[39m, \u001b[38;5;241m0.681962\u001b[39m, \u001b[38;5;241m0.615501\u001b[39m, \u001b[38;5;241m0.599495\u001b[39m, \u001b[38;5;241m0.594923\u001b[39m, \u001b[38;5;241m0.593153\u001b[39m, \u001b[38;5;241m0.589681\u001b[39m, \u001b[38;5;241m0.586355\u001b[39m, \u001b[38;5;241m0.584087\u001b[39m, \u001b[38;5;241m0.584437\u001b[39m, \u001b[38;5;241m0.584774\u001b[39m, \u001b[38;5;241m0.584025\u001b[39m]\n\u001b[0;32m      4\u001b[0m result_df \u001b[38;5;241m=\u001b[39m pd\u001b[38;5;241m.\u001b[39mDataFrame({\u001b[38;5;124m'\u001b[39m\u001b[38;5;124md\u001b[39m\u001b[38;5;124m'\u001b[39m: d, \u001b[38;5;124m'\u001b[39m\u001b[38;5;124mC-index\u001b[39m\u001b[38;5;124m'\u001b[39m: c_index})\n\u001b[1;32m----> 6\u001b[0m plt\u001b[38;5;241m.\u001b[39mscatter(result_df[\u001b[38;5;124m'\u001b[39m\u001b[38;5;124md\u001b[39m\u001b[38;5;124m'\u001b[39m], \u001b[43mresult_df\u001b[49m\u001b[43m[\u001b[49m\u001b[38;5;124;43m'\u001b[39;49m\u001b[38;5;124;43mc-index\u001b[39;49m\u001b[38;5;124;43m'\u001b[39;49m\u001b[43m]\u001b[49m, color\u001b[38;5;241m=\u001b[39m\u001b[38;5;124m'\u001b[39m\u001b[38;5;124mblack\u001b[39m\u001b[38;5;124m'\u001b[39m)\n\u001b[0;32m      8\u001b[0m plt\u001b[38;5;241m.\u001b[39mxlabel(\u001b[38;5;124m'\u001b[39m\u001b[38;5;124mDistance (X-axis)\u001b[39m\u001b[38;5;124m'\u001b[39m)\n\u001b[0;32m      9\u001b[0m plt\u001b[38;5;241m.\u001b[39mylabel(\u001b[38;5;124m'\u001b[39m\u001b[38;5;124mC-index (Y-axis)\u001b[39m\u001b[38;5;124m'\u001b[39m)\n",
      "File \u001b[1;32m~\\AppData\\Local\\Packages\\PythonSoftwareFoundation.Python.3.12_qbz5n2kfra8p0\\LocalCache\\local-packages\\Python312\\site-packages\\pandas\\core\\frame.py:4102\u001b[0m, in \u001b[0;36mDataFrame.__getitem__\u001b[1;34m(self, key)\u001b[0m\n\u001b[0;32m   4100\u001b[0m \u001b[38;5;28;01mif\u001b[39;00m \u001b[38;5;28mself\u001b[39m\u001b[38;5;241m.\u001b[39mcolumns\u001b[38;5;241m.\u001b[39mnlevels \u001b[38;5;241m>\u001b[39m \u001b[38;5;241m1\u001b[39m:\n\u001b[0;32m   4101\u001b[0m     \u001b[38;5;28;01mreturn\u001b[39;00m \u001b[38;5;28mself\u001b[39m\u001b[38;5;241m.\u001b[39m_getitem_multilevel(key)\n\u001b[1;32m-> 4102\u001b[0m indexer \u001b[38;5;241m=\u001b[39m \u001b[38;5;28;43mself\u001b[39;49m\u001b[38;5;241;43m.\u001b[39;49m\u001b[43mcolumns\u001b[49m\u001b[38;5;241;43m.\u001b[39;49m\u001b[43mget_loc\u001b[49m\u001b[43m(\u001b[49m\u001b[43mkey\u001b[49m\u001b[43m)\u001b[49m\n\u001b[0;32m   4103\u001b[0m \u001b[38;5;28;01mif\u001b[39;00m is_integer(indexer):\n\u001b[0;32m   4104\u001b[0m     indexer \u001b[38;5;241m=\u001b[39m [indexer]\n",
      "File \u001b[1;32m~\\AppData\\Local\\Packages\\PythonSoftwareFoundation.Python.3.12_qbz5n2kfra8p0\\LocalCache\\local-packages\\Python312\\site-packages\\pandas\\core\\indexes\\base.py:3812\u001b[0m, in \u001b[0;36mIndex.get_loc\u001b[1;34m(self, key)\u001b[0m\n\u001b[0;32m   3807\u001b[0m     \u001b[38;5;28;01mif\u001b[39;00m \u001b[38;5;28misinstance\u001b[39m(casted_key, \u001b[38;5;28mslice\u001b[39m) \u001b[38;5;129;01mor\u001b[39;00m (\n\u001b[0;32m   3808\u001b[0m         \u001b[38;5;28misinstance\u001b[39m(casted_key, abc\u001b[38;5;241m.\u001b[39mIterable)\n\u001b[0;32m   3809\u001b[0m         \u001b[38;5;129;01mand\u001b[39;00m \u001b[38;5;28many\u001b[39m(\u001b[38;5;28misinstance\u001b[39m(x, \u001b[38;5;28mslice\u001b[39m) \u001b[38;5;28;01mfor\u001b[39;00m x \u001b[38;5;129;01min\u001b[39;00m casted_key)\n\u001b[0;32m   3810\u001b[0m     ):\n\u001b[0;32m   3811\u001b[0m         \u001b[38;5;28;01mraise\u001b[39;00m InvalidIndexError(key)\n\u001b[1;32m-> 3812\u001b[0m     \u001b[38;5;28;01mraise\u001b[39;00m \u001b[38;5;167;01mKeyError\u001b[39;00m(key) \u001b[38;5;28;01mfrom\u001b[39;00m \u001b[38;5;21;01merr\u001b[39;00m\n\u001b[0;32m   3813\u001b[0m \u001b[38;5;28;01mexcept\u001b[39;00m \u001b[38;5;167;01mTypeError\u001b[39;00m:\n\u001b[0;32m   3814\u001b[0m     \u001b[38;5;66;03m# If we have a listlike key, _check_indexing_error will raise\u001b[39;00m\n\u001b[0;32m   3815\u001b[0m     \u001b[38;5;66;03m#  InvalidIndexError. Otherwise we fall through and re-raise\u001b[39;00m\n\u001b[0;32m   3816\u001b[0m     \u001b[38;5;66;03m#  the TypeError.\u001b[39;00m\n\u001b[0;32m   3817\u001b[0m     \u001b[38;5;28mself\u001b[39m\u001b[38;5;241m.\u001b[39m_check_indexing_error(key)\n",
      "\u001b[1;31mKeyError\u001b[0m: 'c-index'"
     ]
    }
   ],
   "source": [
    "d = [0, 20, 40, 60, 80, 100, 120, 140, 160, 180, 200, 220, 240, 260, 280, 300]\n",
    "c_index = [0.766767, 0.707415, 0.703057, 0.695187, 0.686782, 0.681962, 0.615501, 0.599495, 0.594923, 0.593153, 0.589681, 0.586355, 0.584087, 0.584437, 0.584774, 0.584025]\n",
    "\n",
    "result_df = pd.DataFrame({'d': d, 'C-index': c_index})\n",
    "\n",
    "plt.scatter(result_df['d'], result_df['C-index'], color='black')\n",
    "\n",
    "plt.xlabel('Distance (X-axis)')\n",
    "plt.ylabel('C-index (Y-axis)')\n",
    "plt.title('Scatter plot showing concordance index as a function of distance parameter')\n",
    "\n",
    "plt.show()"
   ]
  },
  {
   "cell_type": "markdown",
   "metadata": {},
   "source": [
    "## Analysis of the results"
   ]
  },
  {
   "cell_type": "markdown",
   "metadata": {},
   "source": [
    "### In this cell, you need to answer the client's questions:\n",
    "\n",
    "\n",
    "1. What happens to the 7NN performance as the prediction distance increases?\n",
    "\n",
    "\n",
    "2. Do you think the results behave as was somewhat expected? Do they make sense, why?\n",
    "\n",
    "\n",
    "3. If we require that the 7NN must have at least C-index performance of 0.68, then up to what distance should we trust the 7NN predictions, based on the results?"
   ]
  },
  {
   "cell_type": "raw",
   "metadata": {},
   "source": [
    "1. The 7NN-regression performance seems to steadily decrease the higher the distance parameter becomes. This is of course caused by spatial autocorrelation getting removed from the initial training sets.\n",
    "\n",
    "2. The results make sense. The biggest drop in performance comes right after the distance parameter is changed from 0 to 20 meters, where the c-index drops from ~76% to ~70%, increasing the distance parameter further only causes small additional drops in the c-index, which suggests a high degree of spatial autocorrelation in the immediate vicinity of each datapoint that quickly disappears after less than 20 meters.\n",
    "\n",
    "3. Based on the results, we can only trust the 7NN predictions up to 100 meters."
   ]
  }
 ],
 "metadata": {
  "kernelspec": {
   "display_name": "Python 3 (ipykernel)",
   "language": "python",
   "name": "python3"
  },
  "language_info": {
   "codemirror_mode": {
    "name": "ipython",
    "version": 3
   },
   "file_extension": ".py",
   "mimetype": "text/x-python",
   "name": "python",
   "nbconvert_exporter": "python",
   "pygments_lexer": "ipython3",
   "version": "3.12.9"
  },
  "toc": {
   "base_numbering": 1,
   "nav_menu": {},
   "number_sections": false,
   "sideBar": true,
   "skip_h1_title": false,
   "title_cell": "Table of Contents",
   "title_sidebar": "Contents",
   "toc_cell": false,
   "toc_position": {},
   "toc_section_display": true,
   "toc_window_display": true
  },
  "varInspector": {
   "cols": {
    "lenName": 16,
    "lenType": 16,
    "lenVar": 40
   },
   "kernels_config": {
    "python": {
     "delete_cmd_postfix": "",
     "delete_cmd_prefix": "del ",
     "library": "var_list.py",
     "varRefreshCmd": "print(var_dic_list())"
    },
    "r": {
     "delete_cmd_postfix": ") ",
     "delete_cmd_prefix": "rm(",
     "library": "var_list.r",
     "varRefreshCmd": "cat(var_dic_list()) "
    }
   },
   "types_to_exclude": [
    "module",
    "function",
    "builtin_function_or_method",
    "instance",
    "_Feature"
   ],
   "window_display": false
  }
 },
 "nbformat": 4,
 "nbformat_minor": 4
}
